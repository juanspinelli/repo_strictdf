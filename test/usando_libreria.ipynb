{
  "nbformat": 4,
  "nbformat_minor": 0,
  "metadata": {
    "colab": {
      "name": "Untitled5.ipynb",
      "provenance": []
    },
    "kernelspec": {
      "name": "python3",
      "display_name": "Python 3"
    }
  },
  "cells": [
    {
      "cell_type": "code",
      "metadata": {
        "id": "O-shL9dGfIPv",
        "colab_type": "code",
        "colab": {}
      },
      "source": [
        "from strictdf import StrictDataFrame\n",
        "import pandas as pd\n",
        "\n",
        "df = pd.read_csv(\"credit-data.csv\", low_memory=False)\n",
        "sdf = StrictDataFrame(df)"
      ],
      "execution_count": null,
      "outputs": []
    },
    {
      "cell_type": "code",
      "metadata": {
        "id": "nxzVPbmgfLgm",
        "colab_type": "code",
        "colab": {}
      },
      "source": [
        "sdf.report()"
      ],
      "execution_count": null,
      "outputs": []
    },
    {
      "cell_type": "code",
      "metadata": {
        "id": "3X_NvJatfNnV",
        "colab_type": "code",
        "colab": {}
      },
      "source": [
        "sdf.dtypes"
      ],
      "execution_count": null,
      "outputs": []
    },
    {
      "cell_type": "code",
      "metadata": {
        "id": "dyEdvswUfS5G",
        "colab_type": "code",
        "colab": {}
      },
      "source": [
        "sdf.old_df"
      ],
      "execution_count": null,
      "outputs": []
    },
    {
      "cell_type": "code",
      "metadata": {
        "id": "O47lT5cCfUhp",
        "colab_type": "code",
        "colab": {}
      },
      "source": [
        "sdf.new_df"
      ],
      "execution_count": null,
      "outputs": []
    },
    {
      "cell_type": "code",
      "metadata": {
        "id": "p3RJByvtfWPr",
        "colab_type": "code",
        "colab": {}
      },
      "source": [
        "sdf.to_spark()"
      ],
      "execution_count": null,
      "outputs": []
    },
    {
      "cell_type": "code",
      "metadata": {
        "id": "U_5DdM8cfXvB",
        "colab_type": "code",
        "colab": {}
      },
      "source": [
        "sdf.to_spark().show(2)"
      ],
      "execution_count": null,
      "outputs": []
    },
    {
      "cell_type": "code",
      "metadata": {
        "id": "J2ovHAB4fZUH",
        "colab_type": "code",
        "colab": {}
      },
      "source": [
        "type(sdf.to_spark())"
      ],
      "execution_count": null,
      "outputs": []
    }
  ]
}